{
 "cells": [
  {
   "cell_type": "markdown",
   "id": "bcb11bef",
   "metadata": {},
   "source": [
    "## Model Training - Diabetes Dataset\n",
    "### Introduction\n",
    "This notebook develops and compares multiple machine learning models for diabetes prediction. Using the engineered features from `03_feature_engineering.ipynb`, we train, tune, and evaluate classification models to identify the best performing approach.\n",
    "\n",
    "**Dataset:** Diabetes Dataset (Kaggle)\n",
    "\n",
    "**Objective:** Train, tune, and compare classification models to predict diabetes with optimal performance.\n",
    "\n",
    "**Author:** NGUYEN Ngoc Dang Nguyen - Final-year Student in Computer Science, Aix-Marseille University\n",
    "\n",
    "**Model Training Steps:**\n",
    "1. Import Libraries and Load Data\n",
    "2. Baseline Model\n",
    "3. Compare Multiple Models\n",
    "4. Cross Validation\n",
    "5. Hyperparameter Tuning\n",
    "6. Final Model Evaluation & Save Model"
   ]
  },
  {
   "cell_type": "markdown",
   "id": "44ee3af8",
   "metadata": {},
   "source": [
    "### 1. Import Libraries and Load Data"
   ]
  },
  {
   "cell_type": "code",
   "execution_count": null,
   "id": "7eb771e0",
   "metadata": {},
   "outputs": [],
   "source": [
    "import pandas as pd\n",
    "import numpy as np\n",
    "import matplotlib.pyplot as plt\n",
    "import seaborn as sns\n",
    "import joblib\n",
    "from sklearn.linear_model import LogisticRegression\n",
    "from sklearn.ensemble import RandomForestClassifier\n",
    "from sklearn.tree import DecisionTreeClassifier\n",
    "from sklearn.svm import SVC\n",
    "from sklearn.neighbors import KNeighborsClassifier\n",
    "from sklearn.metrics import accuracy_score, classification_report, confusion_matrix, roc_auc_score\n",
    "from sklearn.model_selection import cross_validate, GridSearchCV\n",
    "\n",
    "plt.style.use('default')\n",
    "sns.set_palette(\"husl\")\n",
    "%matplotlib inline\n",
    "\n",
    "X_train = pd.read_csv(\"../data/processed/X_train_final.csv\")\n",
    "X_test = pd.read_csv(\"../data/processed/X_test_final.csv\")\n",
    "\n",
    "y_train = pd.read_csv(\"../data/processed/y_train.csv\").squeeze()\n",
    "y_test = pd.read_csv(\"../data/processed/y_test.csv\").squeeze()\n",
    "\n",
    "print(f\"Loaded processed datasets:\")\n",
    "print(f\"X_train: {X_train.shape}, X_test: {X_test.shape}\")\n",
    "print(f\"y_train: {y_train.shape}, y_test: {y_test.shape}\")"
   ]
  },
  {
   "cell_type": "markdown",
   "id": "fa871b26",
   "metadata": {},
   "source": [
    "### 2. Baseline Model"
   ]
  },
  {
   "cell_type": "code",
   "execution_count": null,
   "id": "ee7d60a5",
   "metadata": {},
   "outputs": [],
   "source": [
    "log_reg = LogisticRegression(max_iter=1000, random_state=42)\n",
    "log_reg.fit(X_train, y_train)\n",
    "\n",
    "y_pred = log_reg.predict(X_test)\n",
    "\n",
    "acc = accuracy_score(y_test, y_pred)\n",
    "print(f\"Accuracy: {acc:.4f}\")\n",
    "\n",
    "print(\"\\nClassification Report:\")\n",
    "print(classification_report(y_test, y_pred, digits=4))\n",
    "\n",
    "plt.figure(figsize=(6, 4))\n",
    "sns.heatmap(confusion_matrix(y_test, y_pred), annot=True, fmt='d', cmap='Blues', cbar=False)\n",
    "plt.title(\"Confusion Matrix – Logistic Regression\")\n",
    "plt.xlabel(\"Predicted\")\n",
    "plt.ylabel(\"Actual\")\n",
    "plt.tight_layout()\n",
    "plt.show()"
   ]
  },
  {
   "cell_type": "markdown",
   "id": "cf446d67",
   "metadata": {},
   "source": [
    "### 3. Compare Multiple Models"
   ]
  },
  {
   "cell_type": "code",
   "execution_count": null,
   "id": "20b2d1ee",
   "metadata": {},
   "outputs": [],
   "source": [
    "models = {\n",
    "    \"Logistic Regression\": LogisticRegression(max_iter=1000, random_state=42),\n",
    "    \"Decision Tree\": DecisionTreeClassifier(random_state=42),\n",
    "    \"Random Forest\": RandomForestClassifier(random_state=42),\n",
    "    \"SVM\": SVC(probability=True, random_state=42),\n",
    "    \"KNN\": KNeighborsClassifier()\n",
    "}\n",
    "\n",
    "results = []\n",
    "\n",
    "for name, model in models.items():\n",
    "    X_tr = X_train.to_numpy() if hasattr(X_train, \"to_numpy\") else X_train\n",
    "    X_te = X_test.to_numpy() if hasattr(X_test, \"to_numpy\") else X_test\n",
    "\n",
    "    model.fit(X_tr, y_train)\n",
    "    y_pred = model.predict(X_te)\n",
    "\n",
    "    if hasattr(model, \"predict_proba\"):\n",
    "        y_proba = model.predict_proba(X_te)[:, 1]\n",
    "        auc = roc_auc_score(y_test, y_proba)\n",
    "    else:\n",
    "        auc = None\n",
    "\n",
    "    acc = accuracy_score(y_test, y_pred)\n",
    "    results.append({\"Model\": name, \"Accuracy\": acc, \"AUC\": auc})\n",
    "\n",
    "results_df = pd.DataFrame(results).sort_values(by=\"AUC\", ascending=False)\n",
    "print(results_df)"
   ]
  },
  {
   "cell_type": "markdown",
   "id": "fcaa2328",
   "metadata": {},
   "source": [
    "### 4. Cross Validation"
   ]
  },
  {
   "cell_type": "code",
   "execution_count": null,
   "id": "bea8bcf7",
   "metadata": {},
   "outputs": [],
   "source": [
    "model = RandomForestClassifier(random_state=42)\n",
    "\n",
    "cv_results = cross_validate(\n",
    "    model,\n",
    "    X, y,\n",
    "    cv=5,\n",
    "    scoring=['accuracy', 'roc_auc', 'f1'],\n",
    "    return_train_score=False\n",
    ")\n",
    "\n",
    "cv_df = pd.DataFrame({\n",
    "    'Fold': range(1, 6),\n",
    "    'Accuracy': cv_results['test_accuracy'],\n",
    "    'AUC': cv_results['test_roc_auc'],\n",
    "    'F1': cv_results['test_f1']\n",
    "})\n",
    "\n",
    "print(\"Mean CV Scores:\")\n",
    "print(cv_df.mean(numeric_only=True).round(3))\n",
    "\n",
    "plt.figure(figsize=(8, 5))\n",
    "sns.boxplot(data=cv_df.drop(columns='Fold'), palette='Set2')\n",
    "plt.title(\"Cross-Validation Score Distribution (5-Fold)\")\n",
    "plt.ylabel(\"Score\")\n",
    "plt.tight_layout()\n",
    "plt.show()"
   ]
  },
  {
   "cell_type": "markdown",
   "id": "931ed70f",
   "metadata": {},
   "source": [
    "### 5. Hyperparameter Tuning"
   ]
  },
  {
   "cell_type": "code",
   "execution_count": null,
   "id": "753e202b",
   "metadata": {},
   "outputs": [],
   "source": [
    "param_grid = {\n",
    "    'n_estimators': [100, 200, 300],\n",
    "    'max_depth': [None, 5, 10, 20],\n",
    "    'min_samples_split': [2, 5, 10]\n",
    "}\n",
    "\n",
    "grid = GridSearchCV(\n",
    "    estimator=RandomForestClassifier(random_state=42, class_weight='balanced'),\n",
    "    param_grid=param_grid,\n",
    "    cv=5,\n",
    "    scoring='roc_auc',\n",
    "    n_jobs=-1,\n",
    "    verbose=1\n",
    ")\n",
    "\n",
    "grid.fit(X_train, y_train)\n",
    "\n",
    "print(\"Best Parameters:\", grid.best_params_)\n",
    "print(\"Best AUC Score:\", round(grid.best_score_, 4))\n",
    "\n",
    "results_df = pd.DataFrame(grid.cv_results_)\n",
    "results_df = results_df.sort_values(by='mean_test_score', ascending=False)\n",
    "\n",
    "plt.figure(figsize=(10, 6))\n",
    "sns.barplot(\n",
    "    data=results_df.head(10),\n",
    "    x='mean_test_score',\n",
    "    y=results_df.head(10)['params'].astype(str),\n",
    "    palette='viridis'\n",
    ")\n",
    "plt.title(\"Top 10 Hyperparameter Combinations – AUC Score\")\n",
    "plt.xlabel(\"Mean AUC (CV)\")\n",
    "plt.ylabel(\"Hyperparameters\")\n",
    "plt.tight_layout()\n",
    "plt.show()"
   ]
  },
  {
   "cell_type": "markdown",
   "id": "1a6d86f4",
   "metadata": {},
   "source": [
    "### 6. Final Model Evaluation & Save Model"
   ]
  },
  {
   "cell_type": "code",
   "execution_count": null,
   "id": "9496f0a6",
   "metadata": {},
   "outputs": [],
   "source": [
    "best_model = grid.best_estimator_\n",
    "\n",
    "y_pred = best_model.predict(X_test)\n",
    "y_prob = best_model.predict_proba(X_test)[:, 1]\n",
    "\n",
    "print(\"Final Model Evaluation\")\n",
    "print(f\"Accuracy: {accuracy_score(y_test, y_pred):.4f}\")\n",
    "print(f\"AUC Score: {roc_auc_score(y_test, y_prob):.4f}\")\n",
    "print(\"\\nClassification Report:\")\n",
    "print(classification_report(y_test, y_pred, digits=4))\n",
    "\n",
    "joblib.dump(best_model, \"../models/final_model.pkl\")\n",
    "\n",
    "plt.figure(figsize=(6, 4))\n",
    "sns.heatmap(confusion_matrix(y_test, y_pred), annot=True, fmt='d', cmap='Greens', cbar=False)\n",
    "plt.title(\"Confusion Matrix – Final Model\")\n",
    "plt.xlabel(\"Predicted\")\n",
    "plt.ylabel(\"Actual\")\n",
    "plt.tight_layout()\n",
    "plt.show()\n",
    "\n",
    "from sklearn.metrics import roc_curve\n",
    "fpr, tpr, thresholds = roc_curve(y_test, y_prob)\n",
    "plt.figure(figsize=(6, 4))\n",
    "plt.plot(fpr, tpr, label=f\"AUC = {roc_auc_score(y_test, y_prob):.4f}\", color='darkgreen')\n",
    "plt.plot([0, 1], [0, 1], linestyle='--', color='gray')\n",
    "plt.title(\"ROC Curve – Final Model\")\n",
    "plt.xlabel(\"False Positive Rate\")\n",
    "plt.ylabel(\"True Positive Rate\")\n",
    "plt.legend()\n",
    "plt.tight_layout()\n",
    "plt.show()"
   ]
  },
  {
   "cell_type": "markdown",
   "id": "67e01675",
   "metadata": {},
   "source": [
    "### Conclusion\n",
    "Model comparison identified RandomForest as the best performer after hyperparameter tuning via GridSearchCV, achieving an AUC of 0.8289 and accuracy of 74.0% on the test set. The tuned model demonstrated balanced performance across precision and recall metrics. The final model was saved to `models/final_model.pkl` for deployment and future predictions."
   ]
  }
 ],
 "metadata": {
  "kernelspec": {
   "display_name": "base",
   "language": "python",
   "name": "python3"
  },
  "language_info": {
   "codemirror_mode": {
    "name": "ipython",
    "version": 3
   },
   "file_extension": ".py",
   "mimetype": "text/x-python",
   "name": "python",
   "nbconvert_exporter": "python",
   "pygments_lexer": "ipython3",
   "version": "3.11.5"
  }
 },
 "nbformat": 4,
 "nbformat_minor": 5
}
