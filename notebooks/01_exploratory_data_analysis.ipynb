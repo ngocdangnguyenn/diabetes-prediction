{
 "cells": [
  {
   "cell_type": "markdown",
   "id": "6b4dfba7",
   "metadata": {},
   "source": [
    "## Exploratory Data Analysis - Diabetes Dataset\n",
    "### Introduction\n",
    "This notebook presents an exploratory data analysis (EDA) of a diabetes dataset from Kaggle. The goal is to identify key patterns, feature distributions, and relationships that may inform predictive modeling for diabetes diagnosis.\n",
    "\n",
    "**Dataset:** Diabetes Dataset (Kaggle)\n",
    "\n",
    "**Objective:** Explore and visualize the dataset to gain insights and guide preprocessing and feature engineering.\n",
    "\n",
    "**Author:** NGUYEN Ngoc Dang Nguyen - Final-year Student in Computer Science, Aix-Marseille University\n",
    "\n",
    "**EDA Steps:**\n",
    "1. Load Libraries and Data\n",
    "2. Dataset Overview\n",
    "3. Missing Values Analysis\n",
    "4. Target Variable Analysis\n",
    "5. Features Distributions\n",
    "6. Relationship Between Features and Outcome\n",
    "7. Correlation Matrix"
   ]
  },
  {
   "cell_type": "markdown",
   "id": "1678f9ed",
   "metadata": {},
   "source": [
    "### 1. Load Libraries and Data"
   ]
  },
  {
   "cell_type": "code",
   "execution_count": null,
   "id": "2e2f6df9",
   "metadata": {},
   "outputs": [],
   "source": [
    "import pandas as pd\n",
    "import matplotlib.pyplot as plt\n",
    "import seaborn as sns\n",
    "import numpy as np\n",
    "\n",
    "plt.style.use('default')\n",
    "sns.set_palette(\"husl\")\n",
    "%matplotlib inline\n",
    "\n",
    "df = pd.read_csv(\"../data/raw/diabetes.csv\")\n",
    "df.columns = df.columns.str.strip()\n",
    "\n",
    "print(f\"Dataset loaded: {df.shape[0]} rows and {df.shape[1]} columns\")\n",
    "df.head()"
   ]
  },
  {
   "cell_type": "markdown",
   "id": "10b659c9",
   "metadata": {},
   "source": [
    "### 2. Dataset Overview"
   ]
  },
  {
   "cell_type": "code",
   "execution_count": null,
   "id": "5e264f4f",
   "metadata": {},
   "outputs": [],
   "source": [
    "print(f\"Dataset size: {df.memory_usage(deep=True).sum() / 1024:.1f} KB\")\n",
    "print(\"\\nColumns names:\")\n",
    "for i, col in enumerate(df.columns, 1):\n",
    "    print(f\"{i:2d}. {col}\")\n",
    "\n",
    "print(\"\\nData types:\")\n",
    "print(df.dtypes)\n",
    "\n",
    "print(\"\\nQuick statistics:\")\n",
    "df.describe()"
   ]
  },
  {
   "cell_type": "markdown",
   "id": "a4378138",
   "metadata": {},
   "source": [
    "### 3. Missing Values Analysis"
   ]
  },
  {
   "cell_type": "code",
   "execution_count": null,
   "id": "d026d6a8",
   "metadata": {},
   "outputs": [],
   "source": [
    "zero_cols = [\"Glucose\",\"BloodPressure\",\"SkinThickness\",\"Insulin\",\"BMI\"]\n",
    "zero_count = (df[zero_cols] == 0).sum()\n",
    "print(\"\\nPotential missing values represented as 0:\")\n",
    "print(zero_count)\n",
    "print(f\"Total rows of data: {len(df)} rows\")\n",
    "\n",
    "zero_count.plot(kind='bar', color='lightgreen')\n",
    "plt.title(\"Potential Missing Values (0) per Column\")\n",
    "plt.ylabel(\"Count\")\n",
    "plt.xticks(rotation=45)\n",
    "plt.grid(axis='y')\n",
    "plt.show()"
   ]
  },
  {
   "cell_type": "markdown",
   "id": "e1cf01a6",
   "metadata": {},
   "source": [
    "### 4. Target Variable Analysis"
   ]
  },
  {
   "cell_type": "code",
   "execution_count": null,
   "id": "55b7880b",
   "metadata": {},
   "outputs": [],
   "source": [
    "outcome_summary = pd.DataFrame({\n",
    "    \"Count\": df['Outcome'].value_counts(),\n",
    "    \"Ratio\": df['Outcome'].value_counts(normalize=True).round(3)\n",
    "})\n",
    "print(\"Outcome Summary:\")\n",
    "print(outcome_summary)\n",
    "\n",
    "\n",
    "plt.figure(figsize=(5,3))\n",
    "sns.countplot(x='Outcome', data=df, palette='Set2')\n",
    "plt.title('Outcome (0 = no diabetes, 1 = diabetes)')\n",
    "plt.xlabel('Outcome')\n",
    "plt.ylabel('Count')\n",
    "plt.show()"
   ]
  },
  {
   "cell_type": "markdown",
   "id": "b3784dbb",
   "metadata": {},
   "source": [
    "### 5. Feature Distributions"
   ]
  },
  {
   "cell_type": "code",
   "execution_count": null,
   "id": "efa5019a",
   "metadata": {},
   "outputs": [],
   "source": [
    "df.hist(bins=20, figsize=(12, 10), color='skyblue', edgecolor='black')\n",
    "plt.suptitle(\"Distribution of Numerical Features\", y=1.02)\n",
    "plt.tight_layout()\n",
    "plt.show()"
   ]
  },
  {
   "cell_type": "markdown",
   "id": "f1f3404e",
   "metadata": {},
   "source": [
    "### 6. Relationship Between Features and Outcome"
   ]
  },
  {
   "cell_type": "code",
   "execution_count": null,
   "id": "cc66804f",
   "metadata": {},
   "outputs": [],
   "source": [
    "features = [\"Glucose\", \"BloodPressure\", \"BMI\", \"Age\"]\n",
    "plt.figure(figsize=(12, 8))\n",
    "\n",
    "for i, col in enumerate(features, 1):\n",
    "    plt.subplot(2, 2, i)\n",
    "    sns.boxplot(x='Outcome', y=col, data=df, palette='Set3')\n",
    "    plt.title(f'{col} vs Outcome')\n",
    "    plt.xlabel('Outcome')\n",
    "    plt.ylabel(col)\n",
    "\n",
    "plt.tight_layout()\n",
    "plt.suptitle(\"Feature vs Outcome Comparison\", y=1.02)\n",
    "plt.show()"
   ]
  },
  {
   "cell_type": "markdown",
   "id": "10c2fffe",
   "metadata": {},
   "source": [
    "### 7. Correlation Matrix"
   ]
  },
  {
   "cell_type": "code",
   "execution_count": null,
   "id": "5db24356",
   "metadata": {},
   "outputs": [],
   "source": [
    "corr_matrix = df.corr()\n",
    "\n",
    "plt.figure(figsize=(10, 8))\n",
    "sns.heatmap(corr_matrix, annot=True, fmt=\".2f\", cmap='coolwarm', \n",
    "            center=0, square=True, linewidths=0.5, cbar_kws={'shrink': 0.8})\n",
    "plt.title(\"Correlation Matrix of Features\", fontsize=14)\n",
    "plt.xticks(rotation=45)\n",
    "plt.yticks(rotation=0)\n",
    "plt.tight_layout()\n",
    "plt.show()\n",
    "\n",
    "print(\"\\nTop 5 correlations with Outcome:\")\n",
    "outcome_corr = corr_matrix['Outcome'].drop('Outcome').sort_values(key=abs, ascending=False)\n",
    "for feature, corr in outcome_corr.head(5).items():\n",
    "    print(f\"{feature:25}: {corr:6.3f}\")"
   ]
  },
  {
   "cell_type": "markdown",
   "id": "48287579",
   "metadata": {},
   "source": [
    "### Conclusion\n",
    "This EDA highlighted several key findings:  \n",
    "- The dataset shows a moderate class imbalance (65% non-diabetic, 35% diabetic).  \n",
    "- Glucose, BMI, and Age are strongly correlated with diabetes outcome.  \n",
    "- Several features have skewed distributions and outliers that may affect modeling.  \n",
    "These insights will guide feature selection and preprocessing for predictive modeling."
   ]
  }
 ],
 "metadata": {
  "kernelspec": {
   "display_name": "base",
   "language": "python",
   "name": "python3"
  },
  "language_info": {
   "codemirror_mode": {
    "name": "ipython",
    "version": 3
   },
   "file_extension": ".py",
   "mimetype": "text/x-python",
   "name": "python",
   "nbconvert_exporter": "python",
   "pygments_lexer": "ipython3",
   "version": "3.11.5"
  }
 },
 "nbformat": 4,
 "nbformat_minor": 5
}
